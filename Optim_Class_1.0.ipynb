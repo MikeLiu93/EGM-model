{
 "cells": [
  {
   "cell_type": "code",
   "execution_count": 1,
   "metadata": {},
   "outputs": [
    {
     "name": "stdout",
     "output_type": "stream",
     "text": [
      "C:\\Users\\u5819317\\Desktop\\Python for QuantEco\\LifeCycle_0_1\n"
     ]
    }
   ],
   "source": [
    "import os\n",
    "print(os.getcwd())"
   ]
  },
  {
   "cell_type": "code",
   "execution_count": 3,
   "metadata": {},
   "outputs": [
    {
     "name": "stdout",
     "output_type": "stream",
     "text": [
      "C:\\Users\\u5819317\\Desktop\\Python for QuantEco\\LifeCycle_0_1\n"
     ]
    }
   ],
   "source": [
    "os.chdir('C:\\\\Users\\\\u5819317\\\\Desktop\\\\Python for QuantEco\\\\LifeCycle_0_1')\n",
    "print(os.getcwd())"
   ]
  },
  {
   "cell_type": "code",
   "execution_count": 10,
   "metadata": {},
   "outputs": [],
   "source": [
    "import pandas as pd\n",
    "interestTable = pd.read_csv('return_H.csv', usecols=[1,2,3])  ## Read in interest rate\n",
    "mortalityTable = pd.read_csv('newmort2.csv', usecols=[1,2,3])  ## Read in mortality table\n",
    "\n",
    "import numpy as np\n",
    "from datascience import Table\n",
    "Expectation = Table.from_df(interestTable)  ## Convert readin csv file to 'table'"
   ]
  },
  {
   "cell_type": "code",
   "execution_count": 39,
   "metadata": {},
   "outputs": [],
   "source": [
    "def func(θ):\n",
    "    Expect1 = 1 + θ*Expectation.column('Eq') + (1-θ)*Expectation.column('Bond')\n",
    "    Expect2 = np.power(Expect1, -5) ### How to wrap this into the class?? Now the rho is 5.\n",
    "    Expect3 = Expectation.column('Eq') - Expectation.column('Bond')\n",
    "    Expect4 = Expectation.column('Probability') * (Expect2*Expect3)\n",
    "    return Expect4.sum()\n",
    "\n",
    "from scipy.optimize import root"
   ]
  },
  {
   "cell_type": "code",
   "execution_count": null,
   "metadata": {},
   "outputs": [],
   "source": []
  },
  {
   "cell_type": "code",
   "execution_count": null,
   "metadata": {},
   "outputs": [],
   "source": []
  },
  {
   "cell_type": "code",
   "execution_count": null,
   "metadata": {},
   "outputs": [],
   "source": []
  },
  {
   "cell_type": "code",
   "execution_count": 43,
   "metadata": {},
   "outputs": [],
   "source": [
    "class optim:\n",
    "    \n",
    "    def __init__(self, ρ = 5, \n",
    "                       grids = 50, \n",
    "                       BalLow = 20000.0, \n",
    "                       BalHigh = 1000000.0):\n",
    "        self.ρ = ρ\n",
    "        self.grids = grids\n",
    "        self.BL = BalLow\n",
    "        self.BH = BalHigh\n",
    "    \n",
    "    \n",
    "    def Optimal_109(self):\n",
    "        \n",
    "        M109 = np.arange(self.BL, self.BH+1, int(self.BH/self.grids))\n",
    "        \n",
    "        \n",
    "        sol = root(func, 0.5)  ## 0.5 is the starting point of θ\n",
    "        θ109 = sol.x    # sol.fun is the value of the objective equation, very close to zero\n",
    "                        ## Should add constraint [0,1] on θ in further calculation.\n",
    "        Expect1 = 1 + θ109 * Expectation.column('Eq') + (1-θ109) * Expectation.column('Bond')\n",
    "        Expect5 = np.power(Expect1, 1-self.ρ) * Expectation.column('Probability')\n",
    "        C109 = np.power((1-mortalityTable['X'][108]) * np.power(M109, -self.ρ) * Expect5.sum(), -1/self.ρ) \n",
    "        ## change 108 to [age-1] when do the iteration\n",
    "        return C109, θ109\n",
    "    "
   ]
  },
  {
   "cell_type": "code",
   "execution_count": 44,
   "metadata": {},
   "outputs": [
    {
     "name": "stdout",
     "output_type": "stream",
     "text": [
      "Optimal risky assets allocation rate at 109 is [0.48775782]\n",
      "Optimal consumption at 109 is [  22808.87801202   45617.75602404   68426.63403605   91235.51204807\n",
      "  114044.39006009  136853.26807211  159662.14608413  182471.02409615\n",
      "  205279.90210816  228088.78012018  250897.6581322   273706.53614422\n",
      "  296515.41415624  319324.29216826  342133.17018027  364942.04819229\n",
      "  387750.92620431  410559.80421633  433368.68222835  456177.56024037\n",
      "  478986.43825238  501795.3162644   524604.19427642  547413.07228844\n",
      "  570221.95030046  593030.82831248  615839.70632449  638648.58433651\n",
      "  661457.46234853  684266.34036055  707075.21837257  729884.09638459\n",
      "  752692.9743966   775501.85240862  798310.73042064  821119.60843266\n",
      "  843928.48644468  866737.3644567   889546.24246871  912355.12048073\n",
      "  935163.99849275  957972.87650477  980781.75451679 1003590.6325288\n",
      " 1026399.51054082 1049208.38855284 1072017.26656486 1094826.14457688\n",
      " 1117635.0225889  1140443.90060091]\n"
     ]
    }
   ],
   "source": [
    "op = optim()\n",
    "(C109, θ109) = op.Optimal_109()\n",
    "\n",
    "print('Optimal risky assets allocation rate at 109 is ' + str(θ109))\n",
    "print('Optimal consumption at 109 is ' + str(C109))"
   ]
  },
  {
   "cell_type": "code",
   "execution_count": null,
   "metadata": {},
   "outputs": [],
   "source": []
  },
  {
   "cell_type": "code",
   "execution_count": 71,
   "metadata": {},
   "outputs": [],
   "source": [
    "from scipy.interpolate import interp1d\n",
    "\n",
    "class optim:\n",
    "    \n",
    "    def __init__(self, ρ = 5, \n",
    "                       Z = 0, \n",
    "                       grids = 50, \n",
    "                       BalLow = 20000.0, \n",
    "                       BalHigh = 1000000.0):\n",
    "        self.ρ = ρ\n",
    "        self.grids = grids\n",
    "        self.BL = BalLow\n",
    "        self.BH = BalHigh\n",
    "        self.Z = Z\n",
    "    \n",
    "    def func(self, θ):\n",
    "        Expect1 = 1 + θ*Expectation.column('Eq') + (1-θ)*Expectation.column('Bond')\n",
    "        Expect2 = np.power(Expect1, -5) ### How to wrap this into the class?? Now the rho is 5.\n",
    "        Expect3 = Expectation.column('Eq') - Expectation.column('Bond')\n",
    "        Expect4 = Expectation.column('Probability') * (Expect2*Expect3)\n",
    "        return Expect4.sum()\n",
    "\n",
    "    def Optimal_109(self):\n",
    "        \n",
    "        M109 = np.arange(self.BL, self.BH+1, int(self.BH/self.grids))\n",
    "        \n",
    "        sol = root(func, 0.5)  ## 0.5 is the starting point of θ\n",
    "        θ109 = sol.x    # sol.fun is the value of the objective equation, very close to zero\n",
    "                        ## Should add constraint [0,1] on θ in further calculation.\n",
    "        Expect1 = 1 + θ109 * Expectation.column('Eq') + (1-θ109) * Expectation.column('Bond')\n",
    "        Expect5 = np.power(Expect1, 1-self.ρ) * Expectation.column('Probability')\n",
    "        C109 = np.power((1-mortalityTable['X'][108]) * np.power(M109, -self.ρ) * Expect5.sum(), -1/self.ρ) \n",
    "        ## change 108 to [age-1] when do the iteration\n",
    "        return C109, θ109\n",
    "    \n",
    "    def Optimal_108(self):\n",
    "        ρ = self.ρ\n",
    "        \n",
    "        M109 = np.arange(self.BL, self.BH+1, int(self.BH/self.grids))\n",
    "        M108 = M109\n",
    "        A109 = M109 - self.Z + C109\n",
    "        Optimal_results = Table().with_columns([ ## Collect the results (optimal consumption Cx \\\n",
    "            'M109', M109,                             ## and the corresponding Ax/Mx) into a table\n",
    "            'C109', C109,\n",
    "            'A109', A109,\n",
    "        ])\n",
    "        \n",
    "        def theta(x):\n",
    "            Interpo1 = 1 + (1-x)*Expectation.column('Bond') + x*Expectation.column('Eq')\n",
    "            Interpo2 = node * Interpo1 ## A109_Interpo given M108 (node)\n",
    "    \n",
    "            Interpolation = interp1d(A109, C109, kind='linear', fill_value='extrapolate')\n",
    "            Interpo3 = Interpolation(Interpo2) / Optimal_results.column(1)[M108==node] \n",
    "    \n",
    "            Interpo4 = np.power(Interpo3, -ρ) * (Expectation.column('Eq') - Expectation.column('Bond'))\n",
    "            Interpo5 = Expectation.column('Probability') * Interpo4\n",
    "            return(Interpo5.sum())\n",
    "        \n",
    "        θ108 = []\n",
    "        for node in M108:\n",
    "            solution = root(theta, 0.5)\n",
    "            θ = float(solution.x)\n",
    "            if θ <= 0: ## Constraint\n",
    "                θ = 0\n",
    "            elif θ >= 1:\n",
    "                θ = 1\n",
    "            θ108.append(θ)\n",
    "        \n",
    "        C108 = []\n",
    "        for index, node in enumerate(M108):\n",
    "            cal1 = 1 + (1-θ108[index])*Expectation.column('Bond') + θ108[index]*Expectation.column('Eq')\n",
    "            cal2 = node * cal1    \n",
    "            Interpolation = interp1d(A109, C109, kind='linear', fill_value='extrapolate')\n",
    "            cal3 = Interpolation(cal2)\n",
    "            cal4 = np.power(cal3, -ρ) * cal1 * Expectation.column('Probability')\n",
    "            cal5 = cal4.sum()\n",
    "            cal6 = np.power(cal5 * (1-mortalityTable['X'][107]), -1/ρ)\n",
    "            C108.append(cal6)\n",
    "        \n",
    "        return C108, θ108\n",
    "        \n",
    "        "
   ]
  },
  {
   "cell_type": "code",
   "execution_count": 78,
   "metadata": {},
   "outputs": [],
   "source": [
    "op = optim()\n",
    "a = op.Optimal_108()"
   ]
  },
  {
   "cell_type": "code",
   "execution_count": 79,
   "metadata": {},
   "outputs": [
    {
     "name": "stdout",
     "output_type": "stream",
     "text": [
      "[12109.693227108368, 24219.386454216736, 36329.07968132511, 48438.77290843347, 60548.46613554185, 72658.15936265021, 84767.85258975858, 96877.54581686696, 108987.23904397532, 121096.93227108369, 133206.62549819206, 145316.31872530043, 157426.0119524088, 169535.7051795172, 181645.39840662555, 193755.09163373391, 205864.78486084228, 217974.47808795064, 230084.171315059, 242193.8645421674, 254303.55776927577, 266413.25099638413, 278522.9442234925, 290632.6374506009, 302742.33067770925, 314852.02390481764, 326961.717131926, 339071.4103590344, 351181.1035861427, 363290.7968132511, 375400.4900403595, 387510.18326746783, 399619.8764945762, 411729.56972168456, 423839.26294879295, 435948.95617590134, 448058.6494030097, 460168.3426301181, 472278.03585722647, 484387.72908433486, 496497.4223114432, 508607.1155385516, 520716.80876566, 532826.5019927683, 544936.1952198767, 557045.888446985, 569155.5816740935, 581265.2749012018, 593374.9681283102, 605484.6613554185]\n"
     ]
    }
   ],
   "source": [
    "print(a[0])"
   ]
  },
  {
   "cell_type": "code",
   "execution_count": 80,
   "metadata": {},
   "outputs": [
    {
     "name": "stdout",
     "output_type": "stream",
     "text": [
      "[0.487757823118668, 0.4877578231186681, 0.4877578231186681, 0.48775782311866805, 0.487757823118668, 0.487757823118668, 0.48775782311866817, 0.4877578231186682, 0.48775782311866817, 0.487757823118668, 0.4877578231186681, 0.487757823118668, 0.487757823118668, 0.48775782311866805, 0.48775782311866817, 0.4877578231186683, 0.4877578231186681, 0.4877578231186681, 0.4877578231186682, 0.4877578231186682, 0.48775782311866805, 0.4877578231186679, 0.48775782311866794, 0.487757823118668, 0.487757823118668, 0.487757823118668, 0.48775782311866817, 0.4877578231186681, 0.48775782311866817, 0.48775782311866817, 0.4877578231186682, 0.4877578231186683, 0.48775782311866817, 0.48775782311866805, 0.4877578231186681, 0.487757823118668, 0.487757823118668, 0.48775782311866794, 0.48775782311866783, 0.487757823118668, 0.48775782311866794, 0.487757823118668, 0.4877578231186679, 0.487757823118668, 0.48775782311866817, 0.487757823118668, 0.4877578231186682, 0.48775782311866817, 0.48775782311866817, 0.48775782311866817]\n"
     ]
    }
   ],
   "source": [
    "print(a[1])"
   ]
  },
  {
   "cell_type": "code",
   "execution_count": null,
   "metadata": {},
   "outputs": [],
   "source": []
  },
  {
   "cell_type": "code",
   "execution_count": null,
   "metadata": {},
   "outputs": [],
   "source": []
  },
  {
   "cell_type": "code",
   "execution_count": null,
   "metadata": {},
   "outputs": [],
   "source": []
  },
  {
   "cell_type": "code",
   "execution_count": null,
   "metadata": {},
   "outputs": [],
   "source": []
  },
  {
   "cell_type": "code",
   "execution_count": null,
   "metadata": {},
   "outputs": [],
   "source": []
  }
 ],
 "metadata": {
  "kernelspec": {
   "display_name": "Python 3",
   "language": "python",
   "name": "python3"
  },
  "language_info": {
   "codemirror_mode": {
    "name": "ipython",
    "version": 3
   },
   "file_extension": ".py",
   "mimetype": "text/x-python",
   "name": "python",
   "nbconvert_exporter": "python",
   "pygments_lexer": "ipython3",
   "version": "3.6.4"
  }
 },
 "nbformat": 4,
 "nbformat_minor": 2
}
